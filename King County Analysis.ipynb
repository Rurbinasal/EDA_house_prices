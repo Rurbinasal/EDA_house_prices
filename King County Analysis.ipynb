{
 "cells": [
  {
   "cell_type": "markdown",
   "metadata": {},
   "source": [
    "![title](Beach.jpg)\n",
    "\n",
    "# Business Understanding\n",
    "Ask relevant questions and define objectives for the problem that needs to be tackled\n",
    "## Glossary\n",
    "* **id** - unique identified for a house\n",
    "* **dateDate** - house was sold\n",
    "* **pricePrice** -  is prediction target\n",
    "* **bedroomsNumber** -  of Bedrooms/House\n",
    "* **bathroomsNumber** -  of bathrooms/bedrooms\n",
    "* **sqft_livingsquare** -  footage of the home\n",
    "* **sqft_lotsquare** -  footage of the lot\n",
    "* **floorsTotal** -  floors (levels) in house\n",
    "* **waterfront** - House which has a view to a waterfront\n",
    "* **view** - Has been viewed\n",
    "* **condition** - How good the condition is ( Overall )\n",
    "* **grade** - overall grade given to the housing unit, based on King County grading system\n",
    "* **sqft_above** - square footage of house apart from basement\n",
    "* **sqft_basement** - square footage of the basement\n",
    "* **yr_built** - Built Year\n",
    "* **yr_renovated** - Year when house was renovated\n",
    "* **zipcode** - zip\n",
    "* **lat** - Latitude coordinate\n",
    "* **long** - Longitude coordinate\n",
    "* **sqft_living15** - The square footage of interior housing living space for the nearest 15 neighbors\n",
    "* **sqft_lot15** - The square footage of the land lots of the nearest 15 neighbors\n",
    "\n",
    "## Data Sets\n",
    "* **data_raw** - Originally imported dataset\n",
    "* **data** - Main working dataset containing cleaned and refined data\n",
    "\n",
    "## Open Topics\n",
    "- Change color palette to fit Google Slides"
   ]
  },
  {
   "cell_type": "code",
   "execution_count": 1,
   "metadata": {
    "code_folding": []
   },
   "outputs": [],
   "source": [
    "import pandas as pd\n",
    "import numpy as np\n",
    "import matplotlib.pyplot as plt\n",
    "import scipy as sc\n",
    "import seaborn as sns\n",
    "import math\n",
    "\n",
    "import statsmodels.api as sm\n",
    "import statsmodels.formula.api as smf\n",
    "\n",
    "from sklearn.linear_model import LinearRegression\n",
    "from sklearn.model_selection import train_test_split\n",
    "from sklearn import metrics\n",
    "sns.set()\n",
    "%matplotlib inline"
   ]
  },
  {
   "cell_type": "markdown",
   "metadata": {},
   "source": [
    "# Data Mining\n",
    "Gather and scrape the data necessary for the project"
   ]
  },
  {
   "cell_type": "code",
   "execution_count": 2,
   "metadata": {},
   "outputs": [],
   "source": [
    "data_raw = pd.read_csv(\"King_County_House_prices_dataset.csv\")\n",
    "data = data_raw"
   ]
  },
  {
   "cell_type": "code",
   "execution_count": 3,
   "metadata": {},
   "outputs": [
    {
     "data": {
      "text/plain": [
       "(21597, 21)"
      ]
     },
     "execution_count": 3,
     "metadata": {},
     "output_type": "execute_result"
    }
   ],
   "source": [
    "data.shape"
   ]
  },
  {
   "cell_type": "code",
   "execution_count": 4,
   "metadata": {},
   "outputs": [],
   "source": [
    "# data.info()"
   ]
  },
  {
   "cell_type": "code",
   "execution_count": 5,
   "metadata": {},
   "outputs": [],
   "source": [
    "# data.corr().head()"
   ]
  },
  {
   "cell_type": "code",
   "execution_count": 6,
   "metadata": {},
   "outputs": [],
   "source": [
    "# data.describe()"
   ]
  },
  {
   "cell_type": "code",
   "execution_count": 7,
   "metadata": {},
   "outputs": [],
   "source": [
    "# data.columns"
   ]
  },
  {
   "cell_type": "code",
   "execution_count": 8,
   "metadata": {},
   "outputs": [],
   "source": [
    "# data.head()"
   ]
  },
  {
   "cell_type": "markdown",
   "metadata": {},
   "source": [
    "# Data Cleaning\n",
    "Fix the inconsistencies within the data and handle the missing values\n",
    "\n",
    "- date\n",
    "- sqft_basement\n",
    "- waterfront\n",
    "- view\n",
    "- outliers:\n",
    "  - bedrooms\n",
    "  - sqft_living\n",
    "  - sqft_lot"
   ]
  },
  {
   "cell_type": "code",
   "execution_count": 9,
   "metadata": {
    "code_folding": [
     0
    ]
   },
   "outputs": [
    {
     "name": "stderr",
     "output_type": "stream",
     "text": [
      "/opt/anaconda3/envs/nf/lib/python3.6/site-packages/ipykernel_launcher.py:4: UserWarning: Pandas doesn't allow columns to be created via a new attribute name - see https://pandas.pydata.org/pandas-docs/stable/indexing.html#attribute-access\n",
      "  after removing the cwd from sys.path.\n"
     ]
    }
   ],
   "source": [
    "# date: split into date_month and date_year, and make date a continuum from min to max - OPTIMIZE\n",
    "data[\"date_month\"] = [int(el.split(\"/\")[0]) for el in data.date.values.tolist()]\n",
    "data[\"date_year\"] = [int(el.split(\"/\")[2]) for el in data.date.values.tolist()]\n",
    "data.date_old = data.date\n",
    "data.date = data.date_month + (data.date_year-2014)*12"
   ]
  },
  {
   "cell_type": "code",
   "execution_count": 10,
   "metadata": {
    "code_folding": [
     0
    ]
   },
   "outputs": [],
   "source": [
    "# sqft_basement: set to sqft_living - sqft_above\n",
    "data.sqft_basement = data.sqft_living - data.sqft_above"
   ]
  },
  {
   "cell_type": "code",
   "execution_count": 11,
   "metadata": {
    "code_folding": [
     0
    ]
   },
   "outputs": [],
   "source": [
    "# waterfront: Assume NaN=0\n",
    "data.waterfront.fillna(0.0, inplace=True)"
   ]
  },
  {
   "cell_type": "code",
   "execution_count": 12,
   "metadata": {
    "code_folding": [
     0
    ]
   },
   "outputs": [],
   "source": [
    "# view: Assume NaN=0\n",
    "data.view.fillna(0.0, inplace=True)"
   ]
  },
  {
   "cell_type": "code",
   "execution_count": 13,
   "metadata": {
    "code_folding": [
     0
    ]
   },
   "outputs": [],
   "source": [
    "# outliers: bedrooms (33 beds) - OPTIMIZE (how to remove outliers in a more systematic manner?)\n",
    "data.drop(data.loc[data.bedrooms==data.bedrooms.max()].index.tolist(), axis=0, inplace=True)"
   ]
  },
  {
   "cell_type": "code",
   "execution_count": 14,
   "metadata": {
    "code_folding": [
     0
    ]
   },
   "outputs": [],
   "source": [
    "# outliers: sqft_living (2)\n",
    "data.drop(data.loc[data.sqft_living==data.sqft_living.max()].index.tolist(), axis=0, inplace=True)\n",
    "#data.drop(data.loc[data.sqft_living==data.sqft_living.max()].index.tolist(), axis=0, inplace=True)"
   ]
  },
  {
   "cell_type": "code",
   "execution_count": 15,
   "metadata": {
    "code_folding": [
     0
    ]
   },
   "outputs": [],
   "source": [
    "# outliers: sqft_lot\n",
    "data.drop(data.loc[data.sqft_lot==data.sqft_lot.max()].index.tolist(), axis=0, inplace=True)"
   ]
  },
  {
   "cell_type": "markdown",
   "metadata": {},
   "source": [
    "# Data Exploration\n",
    "Form hypotheses about your defined problem by visually analyzing the data"
   ]
  },
  {
   "cell_type": "code",
   "execution_count": 16,
   "metadata": {},
   "outputs": [],
   "source": [
    "# separate continuous vs. categorical variables\n",
    "data_cat = ['condition','grade','zipcode']\n",
    "data_cont = [el for el in data.columns if el not in data_cat]"
   ]
  },
  {
   "cell_type": "code",
   "execution_count": 17,
   "metadata": {},
   "outputs": [
    {
     "ename": "AttributeError",
     "evalue": "'list' object has no attribute 'corr'",
     "output_type": "error",
     "traceback": [
      "\u001b[0;31m---------------------------------------------------------------------------\u001b[0m",
      "\u001b[0;31mAttributeError\u001b[0m                            Traceback (most recent call last)",
      "\u001b[0;32m<ipython-input-17-712e60aee775>\u001b[0m in \u001b[0;36m<module>\u001b[0;34m\u001b[0m\n\u001b[1;32m      1\u001b[0m \u001b[0;31m# correlation heatmap\u001b[0m\u001b[0;34m\u001b[0m\u001b[0;34m\u001b[0m\u001b[0;34m\u001b[0m\u001b[0m\n\u001b[0;32m----> 2\u001b[0;31m \u001b[0mmask\u001b[0m \u001b[0;34m=\u001b[0m \u001b[0mnp\u001b[0m\u001b[0;34m.\u001b[0m\u001b[0mtriu\u001b[0m\u001b[0;34m(\u001b[0m\u001b[0mdata_cont\u001b[0m\u001b[0;34m.\u001b[0m\u001b[0mcorr\u001b[0m\u001b[0;34m(\u001b[0m\u001b[0;34m)\u001b[0m\u001b[0;34m)\u001b[0m\u001b[0;34m\u001b[0m\u001b[0;34m\u001b[0m\u001b[0m\n\u001b[0m\u001b[1;32m      3\u001b[0m ax = sns.heatmap(round(data_cont.corr()*100,0)\n\u001b[1;32m      4\u001b[0m                  \u001b[0;34m,\u001b[0m\u001b[0mannot\u001b[0m\u001b[0;34m=\u001b[0m\u001b[0;32mTrue\u001b[0m\u001b[0;34m\u001b[0m\u001b[0;34m\u001b[0m\u001b[0m\n\u001b[1;32m      5\u001b[0m                  \u001b[0;34m,\u001b[0m\u001b[0mmask\u001b[0m\u001b[0;34m=\u001b[0m\u001b[0mmask\u001b[0m\u001b[0;34m\u001b[0m\u001b[0;34m\u001b[0m\u001b[0m\n",
      "\u001b[0;31mAttributeError\u001b[0m: 'list' object has no attribute 'corr'"
     ]
    }
   ],
   "source": [
    "# correlation heatmap\n",
    "mask = np.triu(data_cont.corr())\n",
    "ax = sns.heatmap(round(data_cont.corr()*100,0)\n",
    "                 ,annot=True\n",
    "                 ,mask=mask\n",
    "                 ,cmap='coolwarm')\n",
    "ax.set_ylim((0,11))"
   ]
  },
  {
   "cell_type": "code",
   "execution_count": 27,
   "metadata": {
    "code_folding": [
     0
    ],
    "scrolled": true
   },
   "outputs": [],
   "source": [
    "# Plot all variables as pairplot\n",
    "#sns.pairplot(data);"
   ]
  },
  {
   "cell_type": "code",
   "execution_count": null,
   "metadata": {
    "code_folding": [
     0
    ]
   },
   "outputs": [],
   "source": [
    "# Plot selection of variables as pairplot\n",
    "#sns.pairplot(data, kind=\"reg\", vars=[\"price\", \"bedrooms\", \"bathrooms\", \"sqft_lot\"], \n",
    "#             plot_kws={'line_kws':{'color':'red'}, 'scatter_kws': {'alpha': 0.1}});"
   ]
  },
  {
   "cell_type": "code",
   "execution_count": 24,
   "metadata": {
    "code_folding": [
     0
    ],
    "scrolled": false
   },
   "outputs": [],
   "source": [
    "# Plot continuous variables\n",
    "#plt.hist(data.price, bins = 25);\n",
    "#plt.hist(np.log(data.price), bins = 25);\n",
    "#plt.tight_layout()"
   ]
  },
  {
   "cell_type": "code",
   "execution_count": 28,
   "metadata": {
    "code_folding": []
   },
   "outputs": [
    {
     "data": {
      "text/plain": [
       "<matplotlib.axes._subplots.AxesSubplot at 0x1a19d7f6d8>"
      ]
     },
     "execution_count": 28,
     "metadata": {},
     "output_type": "execute_result"
    },
    {
     "data": {
      "image/png": "[encoded data removed]",
      "text/plain": [
       "<Figure size 432x288 with 1 Axes>"
      ]
     },
     "metadata": {
      "needs_background": "light"
     },
     "output_type": "display_data"
    }
   ],
   "source": [
    "# Plot categorical variables\n",
    "#sns.stripplot(x=data.condition.values, y = data.price.values, \n",
    "#              jitter=0.1, alpha=0.5);\n",
    "\n",
    "#sns.stripplot(x=data.grade.values, y = data.price.values,\n",
    "#              jitter=0.1, alpha=0.5);\n",
    "\n",
    "#sns.stripplot(x=data.zipcode.values, y = data.price.values,\n",
    "#              jitter=0.1, alpha=0.5);\n",
    "\n",
    "sns.pointplot(x = data.zipcode.values, y = data.price.values,\n",
    "              order = data.groupby(\"zipcode\")[\"price\"].mean().sort_values().index);\n",
    "\n",
    "#plt.tight_layout()"
   ]
  },
  {
   "cell_type": "markdown",
   "metadata": {},
   "source": [
    "# Feature Engineering\n",
    "Select important features and construct more meaningful ones using the raw data that you have\n",
    "\n",
    "- renovated\n",
    "- price_log: column with log of price\n",
    "- yr_since_built: column with years between yr_built and sold\n",
    "- yr_last_renovated: column with max from yr_built und yr_renovated\n",
    "- yr_since_last_renovated: column with years between yr_built or yr_renovated and sold\n",
    "- categorical --> dummies\n",
    "  - condition\n",
    "  - grade\n",
    "  - zipcode\n",
    "- drop:\n",
    "  - id\n",
    "  - yr_renovated"
   ]
  },
  {
   "cell_type": "code",
   "execution_count": null,
   "metadata": {
    "code_folding": [
     0
    ]
   },
   "outputs": [],
   "source": [
    "# renovated: Add 1/0 variable for whether house has been renovated, assuming 0 for NaN-Values\n",
    "data[\"renovated\"] = data[\"yr_renovated\"] > 0\n",
    "data.renovated.replace([True, False], [1, 0], inplace=True)"
   ]
  },
  {
   "cell_type": "code",
   "execution_count": null,
   "metadata": {
    "code_folding": [
     0
    ]
   },
   "outputs": [],
   "source": [
    "# price_log: column with log of price\n",
    "# data.head()\n",
    "data[\"price_log\"] = [math.log(el) for el in data[\"price\"]]\n",
    "# data.price_log.hist();"
   ]
  },
  {
   "cell_type": "code",
   "execution_count": null,
   "metadata": {
    "code_folding": [
     0
    ]
   },
   "outputs": [],
   "source": [
    "# yr_since_built\n",
    "data[\"yr_since_built\"] = data.date_year - data.yr_built"
   ]
  },
  {
   "cell_type": "code",
   "execution_count": null,
   "metadata": {
    "code_folding": [
     0
    ]
   },
   "outputs": [],
   "source": [
    "# yr_last_renovated\n",
    "#data[\"yr_last_renovated\"] = [max(data.yr_built[i],data.yr_renovated[i]) for i in data.yr_built]\n",
    "data[\"yr_last_renovated\"] = data[[\"yr_built\",\"yr_renovated\"]].max(axis=1)"
   ]
  },
  {
   "cell_type": "code",
   "execution_count": null,
   "metadata": {
    "code_folding": [
     0
    ]
   },
   "outputs": [],
   "source": [
    "# yr_since_last_renovated\n",
    "data[\"yr_since_last_renovated\"] = data.date_year - data.yr_last_renovated"
   ]
  },
  {
   "cell_type": "code",
   "execution_count": null,
   "metadata": {
    "code_folding": [
     0
    ]
   },
   "outputs": [],
   "source": [
    "# categorical --> dummies - OPTIMIZE\n",
    "cat = data.filter([\"condition\", \n",
    "                   \"grade\", \n",
    "                   \"zipcode\"], axis=1).astype(\"category\")\n",
    "data_dum = pd.DataFrame()\n",
    "data_dum_i = pd.DataFrame()\n",
    "for i in cat:\n",
    "    data_dum_i = pd.get_dummies(cat[i], prefix=i, drop_first=True)\n",
    "    data_dum = pd.concat([data_dum, data_dum_i], axis=1)\n",
    "data_without_dum = data\n",
    "data = pd.concat([data, data_dum], axis=1)\n",
    "# data_dum = pd.get_dummies(data, columns=[\"condition\", \"grade\", \"zipcode\"], prefix=[\"condition\", \"grade\",\"zipcode\"])\n",
    "# data_wo_dum = data\n",
    "# data_new = pd.concat([data, data_dum], axis=1)"
   ]
  },
  {
   "cell_type": "code",
   "execution_count": null,
   "metadata": {
    "scrolled": true
   },
   "outputs": [],
   "source": [
    "# drop: id, yr_renovated\n",
    "data = data.drop([\"id\", \"date\", \"yr_renovated\", \"condition\", \"grade\", \"zipcode\", \"sqft_living\"], axis=1)"
   ]
  },
  {
   "cell_type": "markdown",
   "metadata": {},
   "source": [
    "# Predictive Modeling\n",
    "Train machine learning models, evaluate their performance and use them to make predictions"
   ]
  },
  {
   "cell_type": "code",
   "execution_count": null,
   "metadata": {
    "code_folding": []
   },
   "outputs": [],
   "source": [
    "# Split data into test and train"
   ]
  },
  {
   "cell_type": "code",
   "execution_count": null,
   "metadata": {},
   "outputs": [],
   "source": [
    "X = data.drop([\"price\", \"price_log\"], axis=1)\n",
    "X = sm.add_constant(X)\n",
    "y = data.price\n",
    "data_results = sm.OLS(y,X).fit()\n",
    "data_results.summary()"
   ]
  },
  {
   "cell_type": "code",
   "execution_count": null,
   "metadata": {},
   "outputs": [],
   "source": [
    "data.columns\n",
    "#data\n",
    "#data.yr_since_built"
   ]
  },
  {
   "cell_type": "code",
   "execution_count": null,
   "metadata": {},
   "outputs": [],
   "source": [
    "X2 = data.drop([\"price\", \"price_log\", \"renovated\", \"yr_since_last_renovated\", \n",
    "               \"yr_last_renovated\", \"yr_built\"], axis=1)\n",
    "X2 = sm.add_constant(X2)\n",
    "y2 = data.price\n",
    "data_results = sm.OLS(y2,X2).fit()\n",
    "data_results.summary()"
   ]
  },
  {
   "cell_type": "code",
   "execution_count": null,
   "metadata": {
    "code_folding": [
     0
    ],
    "scrolled": true
   },
   "outputs": [],
   "source": [
    "X3 = data[['bedrooms', 'bathrooms', 'sqft_lot', 'floors',\n",
    "       'waterfront', 'view', 'sqft_above',\n",
    "       'sqft_basement', 'lat', 'long', 'sqft_living15',\n",
    "       'sqft_lot15', 'renovated', \"grade_12\", \n",
    "       \"grade_13\", \"yr_since_last_renovated\"]]\n",
    "X3 = sm.add_constant(X3)\n",
    "y3 = data.price\n",
    "data_results = sm.OLS(y3,X3).fit()\n",
    "data_results.summary()"
   ]
  },
  {
   "cell_type": "code",
   "execution_count": null,
   "metadata": {},
   "outputs": [],
   "source": [
    "y4 = data['price']\n",
    "X4 = data[['bathrooms','bedrooms','sqft_above','floors']]\n",
    "X4_train, X4_test, y4_train, y4_test = train_test_split(X4, y4, test_size=0.3, random_state=101)\n",
    "\n",
    "lm = LinearRegression()\n",
    "lm.fit(X4_train,y4_train)\n",
    "print('Coefficients: \\n', lm.coef_)\n",
    "\n",
    "predictions = lm.predict(X4_test)\n",
    "plt.scatter(y4_test,predictions)\n",
    "plt.xlabel('Y Test')\n",
    "plt.ylabel('Predicted Y')\n",
    "\n",
    "# calculate these metrics by hand!\n",
    "print('MAE:', metrics.mean_absolute_error(y_test, predictions))\n",
    "print('MSE:', metrics.mean_squared_error(y_test, predictions))\n",
    "print('RMSE:', np.sqrt(metrics.mean_squared_error(y_test, predictions)))"
   ]
  },
  {
   "cell_type": "code",
   "execution_count": null,
   "metadata": {},
   "outputs": [],
   "source": [
    "sns.distplot((y_test-predictions),bins=50)"
   ]
  },
  {
   "cell_type": "code",
   "execution_count": null,
   "metadata": {},
   "outputs": [],
   "source": []
  },
  {
   "cell_type": "markdown",
   "metadata": {},
   "source": [
    "# Data Visualization\n",
    "Communicate the findings with key stakeholders using plots and interactive visualizations"
   ]
  },
  {
   "cell_type": "code",
   "execution_count": null,
   "metadata": {},
   "outputs": [],
   "source": []
  }
 ],
 "metadata": {
  "kernelspec": {
   "display_name": "Python [conda env:nf] *",
   "language": "python",
   "name": "conda-env-nf-py"
  },
  "language_info": {
   "codemirror_mode": {
    "name": "ipython",
    "version": 3
   },
   "file_extension": ".py",
   "mimetype": "text/x-python",
   "name": "python",
   "nbconvert_exporter": "python",
   "pygments_lexer": "ipython3",
   "version": "3.6.10"
  },
  "toc": {
   "base_numbering": 1,
   "nav_menu": {},
   "number_sections": true,
   "sideBar": true,
   "skip_h1_title": false,
   "title_cell": "Table of Contents",
   "title_sidebar": "Contents",
   "toc_cell": false,
   "toc_position": {
    "height": "calc(100% - 180px)",
    "left": "10px",
    "top": "150px",
    "width": "307.2px"
   },
   "toc_section_display": true,
   "toc_window_display": true
  }
 },
 "nbformat": 4,
 "nbformat_minor": 4
}
